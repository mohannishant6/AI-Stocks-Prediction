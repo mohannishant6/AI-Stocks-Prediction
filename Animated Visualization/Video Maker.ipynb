{
 "cells": [
  {
   "cell_type": "code",
   "execution_count": 11,
   "metadata": {},
   "outputs": [],
   "source": [
    "import cv2\n",
    "import os\n",
    "\n",
    "image_folder = 'images'\n",
    "video_name = 'viz.avi'\n",
    "\n",
    "images = [img for img in os.listdir(\"frames\") if img.endswith(\".jpg\")]\n",
    "for i in images:\n",
    "    img = cv2.imread(\"frames\"+\"\\\\\"+i)\n",
    "    img = cv2.resize(img, (0,0), fx=1, fy=1)\n",
    "    cv2.imwrite(image_folder+\"\\\\\"+i, img)\n",
    "    \n",
    "images = [img for img in os.listdir(image_folder) if img.endswith(\".jpg\")]\n",
    "images = sorted([int(i.replace(\".jpg\",\"\")) for i in images])\n",
    "images = [str(i)+\".jpg\" for i in images]\n",
    "\n",
    "frame = cv2.imread(os.path.join(image_folder, images[0]))\n",
    "\n",
    "\n",
    "height, width, layers = frame.shape\n",
    "\n",
    "video = cv2.VideoWriter(video_name, 0, 3, (width,height))\n",
    "\n",
    "for image in images:\n",
    "    video.write(cv2.imread(os.path.join(image_folder, image)))\n",
    "\n",
    "cv2.destroyAllWindows()\n",
    "video.release()"
   ]
  }
 ],
 "metadata": {
  "kernelspec": {
   "display_name": "Python 3",
   "language": "python",
   "name": "python3"
  },
  "language_info": {
   "codemirror_mode": {
    "name": "ipython",
    "version": 3
   },
   "file_extension": ".py",
   "mimetype": "text/x-python",
   "name": "python",
   "nbconvert_exporter": "python",
   "pygments_lexer": "ipython3",
   "version": "3.7.3"
  }
 },
 "nbformat": 4,
 "nbformat_minor": 2
}
